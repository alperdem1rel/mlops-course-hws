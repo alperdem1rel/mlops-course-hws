{
 "cells": [
  {
   "cell_type": "markdown",
   "id": "436a76ba",
   "metadata": {},
   "source": [
    "# mlops-zoomcamp HW1 - https://github.com/DataTalksClub/mlops-zoomcamp/blob/main/01-intro/homework.md"
   ]
  },
  {
   "cell_type": "markdown",
   "id": "cade4101",
   "metadata": {},
   "source": [
    "## 1. Import Libraries"
   ]
  },
  {
   "cell_type": "code",
   "execution_count": 1,
   "id": "3cca5461",
   "metadata": {},
   "outputs": [],
   "source": [
    "import pandas as pd\n",
    "import numpy as np\n",
    "import matplotlib.pyplot as plt\n",
    "import seaborn as sns\n",
    "\n",
    "from sklearn.feature_extraction import DictVectorizer\n",
    "from sklearn.linear_model import LinearRegression\n",
    "from sklearn.metrics import mean_squared_error\n",
    "\n",
    "import warnings\n",
    "warnings.filterwarnings(\"ignore\")"
   ]
  },
  {
   "cell_type": "markdown",
   "id": "80186a04",
   "metadata": {},
   "source": [
    "## 2. Load Data"
   ]
  },
  {
   "cell_type": "code",
   "execution_count": 2,
   "id": "b9e3edca",
   "metadata": {},
   "outputs": [],
   "source": [
    "def get_data_from_local(data_path, data_purpose:str):\n",
    "    data = pd.read_parquet(data_path, engine='pyarrow')\n",
    "    print(\"{} data shape: \".format(data_purpose), data.shape)\n",
    "    print(\"{} data records count: \".format(data_purpose),data.shape[0])\n",
    "    return data "
   ]
  },
  {
   "cell_type": "markdown",
   "id": "5153f9b7",
   "metadata": {},
   "source": [
    "## 3. Preprocessing Step"
   ]
  },
  {
   "cell_type": "code",
   "execution_count": 3,
   "id": "fb7e1763",
   "metadata": {},
   "outputs": [],
   "source": [
    "def create_duration_feature(data, data_month:str):\n",
    "    data['duration'] = (data['dropOff_datetime'] - data['pickup_datetime']).dt.total_seconds()/60\n",
    "    print(\"Average trip duration in {}: \".format(data_month), data['duration'].mean().round(3))\n",
    "    return data"
   ]
  },
  {
   "cell_type": "code",
   "execution_count": 4,
   "id": "cc803204",
   "metadata": {},
   "outputs": [],
   "source": [
    "def preprocess_data(data, data_purpose:str):\n",
    "    clean_data = data.loc[(data[\"duration\"]>=1) & (data[\"duration\"]<=60)].reset_index(drop=True)\n",
    "    \n",
    "    print(\"Number of values other than 1 to 60 minutes(Dropped value count): \", data.shape[0] - clean_data.shape[0])\n",
    "    \n",
    "    ml_data = clean_data[[\"PUlocationID\", \"DOlocationID\", \"duration\"]]\n",
    "    \n",
    "    ml_data['PUlocationID'] = ml_data['PUlocationID'].fillna(-1)\n",
    "    ml_data['DOlocationID'] = ml_data['DOlocationID'].fillna(-1)\n",
    "    \n",
    "    all_data_len = len(ml_data)\n",
    "    minus_one_data_len = len(ml_data.loc[ml_data[\"PUlocationID\"] == -1])\n",
    "    percentage_missing_value = ((minus_one_data_len / all_data_len) *100)\n",
    "    print(\"\\nFractions of NANs for the PU location ID in {} data: \".format(data_purpose), percentage_missing_value)\n",
    "    \n",
    "    categorical = ['PUlocationID', 'DOlocationID']\n",
    "    \n",
    "    ml_data[categorical] = ml_data[categorical].astype(str)\n",
    "    dicts = ml_data[categorical].to_dict(orient='records')\n",
    "    \n",
    "    return ml_data, dicts"
   ]
  },
  {
   "cell_type": "markdown",
   "id": "9516c5e0",
   "metadata": {},
   "source": [
    "## 4. Training and Validation Step"
   ]
  },
  {
   "cell_type": "code",
   "execution_count": 5,
   "id": "9d3b44e6",
   "metadata": {},
   "outputs": [],
   "source": [
    "def training_step(data, dicts):\n",
    "    \n",
    "    dv = DictVectorizer()\n",
    "    lr = LinearRegression()\n",
    "    \n",
    "    target = 'duration'\n",
    "    \n",
    "    X_train = dv.fit_transform(dicts)\n",
    "    print(\"\\nDimensionality of train matrix: \", X_train.shape[1])\n",
    "    y_train = data[target].values\n",
    "\n",
    "    lr.fit(X_train, y_train)\n",
    "    y_pred = lr.predict(X_train)\n",
    "    print('\\nTrain RMSE: ', np.sqrt(mean_squared_error(y_train, y_pred)))\n",
    "    \n",
    "    return dv, lr\n",
    "\n",
    "def validation_step(data, dicts, dv, lr):\n",
    "    \n",
    "    target = 'duration'\n",
    "    \n",
    "    X_val = dv.transform(dicts)\n",
    "    y_val = data[target].values\n",
    "    \n",
    "    y_val_pred = lr.predict(X_val)\n",
    "    print('\\nValidation RMSE: ', np.sqrt(mean_squared_error(y_val, y_val_pred)))"
   ]
  },
  {
   "cell_type": "markdown",
   "id": "991d60ff",
   "metadata": {},
   "source": [
    "## 5. Process of Training Data"
   ]
  },
  {
   "cell_type": "code",
   "execution_count": 6,
   "id": "7b7c5d36",
   "metadata": {},
   "outputs": [
    {
     "name": "stdout",
     "output_type": "stream",
     "text": [
      "Train data shape:  (1154112, 7)\n",
      "Train data records count:  1154112\n",
      "Average trip duration in January:  19.167\n"
     ]
    }
   ],
   "source": [
    "train_data_path = 'data/fhv_tripdata_2021-01.parquet'\n",
    "january_data = get_data_from_local(train_data_path, \"Train\")\n",
    "\n",
    "january_data = create_duration_feature(january_data, \"January\")"
   ]
  },
  {
   "cell_type": "code",
   "execution_count": 7,
   "id": "a317ead1",
   "metadata": {},
   "outputs": [
    {
     "data": {
      "image/png": "[encoded data removed]",
      "text/plain": [
       "<Figure size 432x288 with 1 Axes>"
      ]
     },
     "metadata": {
      "needs_background": "light"
     },
     "output_type": "display_data"
    }
   ],
   "source": [
    "sns.distplot(january_data['duration']);"
   ]
  },
  {
   "cell_type": "code",
   "execution_count": 8,
   "id": "f2e6d978",
   "metadata": {},
   "outputs": [
    {
     "name": "stdout",
     "output_type": "stream",
     "text": [
      "Number of values other than 1 to 60 minutes(Dropped value count):  44286\n",
      "\n",
      "Fractions of NANs for the PU location ID in Train data:  83.52732770722618\n",
      "\n",
      "Dimensionality of train matrix:  525\n",
      "\n",
      "Train RMSE:  10.5285194284187\n"
     ]
    }
   ],
   "source": [
    "ml_data_for_train, train_dicts = preprocess_data(january_data, \"Train\")\n",
    "\n",
    "dictvec, linreg = training_step(ml_data_for_train, train_dicts)"
   ]
  },
  {
   "cell_type": "markdown",
   "id": "d77419e5",
   "metadata": {},
   "source": [
    "## 6. Process of Validation Data"
   ]
  },
  {
   "cell_type": "code",
   "execution_count": 9,
   "id": "728cf21e",
   "metadata": {},
   "outputs": [
    {
     "name": "stdout",
     "output_type": "stream",
     "text": [
      "Validation data shape:  (1037692, 7)\n",
      "Validation data records count:  1037692\n",
      "Average trip duration in February:  20.707\n"
     ]
    }
   ],
   "source": [
    "val_data_path = 'data/fhv_tripdata_2021-02.parquet'\n",
    "february_data = get_data_from_local(val_data_path, \"Validation\")\n",
    "\n",
    "february_data = create_duration_feature(february_data, \"February\")"
   ]
  },
  {
   "cell_type": "code",
   "execution_count": 10,
   "id": "f0d87ce4",
   "metadata": {},
   "outputs": [
    {
     "name": "stdout",
     "output_type": "stream",
     "text": [
      "Number of values other than 1 to 60 minutes(Dropped value count):  47579\n",
      "\n",
      "Fractions of NANs for the PU location ID in Validation data:  85.71354986754038\n",
      "\n",
      "Validation RMSE:  11.014285518755779\n"
     ]
    }
   ],
   "source": [
    "ml_data_for_val, val_dicts = preprocess_data(february_data, \"Validation\")\n",
    "\n",
    "validation_step(ml_data_for_val, val_dicts, dictvec, linreg)"
   ]
  },
  {
   "cell_type": "code",
   "execution_count": null,
   "id": "3d238941",
   "metadata": {},
   "outputs": [],
   "source": []
  }
 ],
 "metadata": {
  "kernelspec": {
   "display_name": "Python 3 (ipykernel)",
   "language": "python",
   "name": "python3"
  },
  "language_info": {
   "codemirror_mode": {
    "name": "ipython",
    "version": 3
   },
   "file_extension": ".py",
   "mimetype": "text/x-python",
   "name": "python",
   "nbconvert_exporter": "python",
   "pygments_lexer": "ipython3",
   "version": "3.9.6"
  }
 },
 "nbformat": 4,
 "nbformat_minor": 5
}
